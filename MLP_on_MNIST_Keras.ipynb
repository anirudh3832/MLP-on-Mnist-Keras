{
  "nbformat": 4,
  "nbformat_minor": 0,
  "metadata": {
    "colab": {
      "name": "MLP on MNIST-Keras.ipynb",
      "provenance": [],
      "collapsed_sections": []
    },
    "kernelspec": {
      "name": "python3",
      "display_name": "Python 3"
    }
  },
  "cells": [
    {
      "cell_type": "code",
      "metadata": {
        "id": "O-QY91HfegJR",
        "colab_type": "code",
        "colab": {}
      },
      "source": [
        "from keras.utils import np_utils \n",
        "from keras.datasets import mnist \n",
        "import seaborn as sns\n",
        "from keras.initializers import RandomNormal"
      ],
      "execution_count": 0,
      "outputs": []
    },
    {
      "cell_type": "code",
      "metadata": {
        "id": "5jLeOsW8er4w",
        "colab_type": "code",
        "colab": {}
      },
      "source": [
        "%matplotlib inline\n",
        "import matplotlib.pyplot as plt\n",
        "import numpy as np\n",
        "import time\n",
        "# https://gist.github.com/greydanus/f6eee59eaf1d90fcb3b534a25362cea4\n",
        "# https://stackoverflow.com/a/14434334\n",
        "# this function is used to update the plots for each epoch and error\n",
        "def plt_dynamic(x, vy, ty, ax, colors=['b']):\n",
        "    ax.plot(x, vy, 'b', label=\"Validation Loss\")\n",
        "    ax.plot(x, ty, 'r', label=\"Train Loss\")\n",
        "    plt.legend()\n",
        "    plt.grid()\n",
        "    fig.canvas.draw()\n",
        "    plt.show()"
      ],
      "execution_count": 0,
      "outputs": []
    },
    {
      "cell_type": "code",
      "metadata": {
        "id": "YSuUi9JIe9Jw",
        "colab_type": "code",
        "colab": {}
      },
      "source": [
        "(X_train, y_train), (X_test, y_test) = mnist.load_data()"
      ],
      "execution_count": 0,
      "outputs": []
    },
    {
      "cell_type": "code",
      "metadata": {
        "id": "UEaMc1JLfIj2",
        "colab_type": "code",
        "colab": {
          "base_uri": "https://localhost:8080/",
          "height": 34
        },
        "outputId": "3f9d0f68-4c91-4da4-9080-2d8e83ec7c9d"
      },
      "source": [
        "X_train.shape"
      ],
      "execution_count": 75,
      "outputs": [
        {
          "output_type": "execute_result",
          "data": {
            "text/plain": [
              "(60000, 28, 28)"
            ]
          },
          "metadata": {
            "tags": []
          },
          "execution_count": 75
        }
      ]
    },
    {
      "cell_type": "code",
      "metadata": {
        "id": "ACuCctUMfAxH",
        "colab_type": "code",
        "colab": {
          "base_uri": "https://localhost:8080/",
          "height": 51
        },
        "outputId": "f218670d-dd2b-439f-9a80-be563c9aa4f8"
      },
      "source": [
        "print(\"Number of training examples :\", X_train.shape[0], \"and each image is of shape (%d, %d)\"%(X_train.shape[1], X_train.shape[2]))\n",
        "print(\"Number of training examples :\", X_test.shape[0], \"and each image is of shape (%d, %d)\"%(X_test.shape[1], X_test.shape[2]))"
      ],
      "execution_count": 76,
      "outputs": [
        {
          "output_type": "stream",
          "text": [
            "Number of training examples : 60000 and each image is of shape (28, 28)\n",
            "Number of training examples : 10000 and each image is of shape (28, 28)\n"
          ],
          "name": "stdout"
        }
      ]
    },
    {
      "cell_type": "markdown",
      "metadata": {
        "id": "8Pm1-IGEfX5t",
        "colab_type": "text"
      },
      "source": [
        "Reshape"
      ]
    },
    {
      "cell_type": "code",
      "metadata": {
        "id": "8xv5pTFofOLb",
        "colab_type": "code",
        "colab": {}
      },
      "source": [
        "X_train = X_train.reshape(X_train.shape[0], X_train.shape[1]*X_train.shape[2]) \n",
        "X_test = X_test.reshape(X_test.shape[0], X_test.shape[1]*X_test.shape[2]) "
      ],
      "execution_count": 0,
      "outputs": []
    },
    {
      "cell_type": "code",
      "metadata": {
        "id": "HQnfZWcRfafY",
        "colab_type": "code",
        "colab": {
          "base_uri": "https://localhost:8080/",
          "height": 51
        },
        "outputId": "c586306e-fbc5-4e2d-dd61-bed3d7234898"
      },
      "source": [
        "# after converting the input images from 3d to 2d vectors\n",
        "\n",
        "print(\"Number of training examples :\", X_train.shape[0], \"and each image is of shape (%d)\"%(X_train.shape[1]))\n",
        "print(\"Number of training examples :\", X_test.shape[0], \"and each image is of shape (%d)\"%(X_test.shape[1]))"
      ],
      "execution_count": 78,
      "outputs": [
        {
          "output_type": "stream",
          "text": [
            "Number of training examples : 60000 and each image is of shape (784)\n",
            "Number of training examples : 10000 and each image is of shape (784)\n"
          ],
          "name": "stdout"
        }
      ]
    },
    {
      "cell_type": "markdown",
      "metadata": {
        "id": "vD6P3e8Cfj5W",
        "colab_type": "text"
      },
      "source": [
        "**Normalization**"
      ]
    },
    {
      "cell_type": "code",
      "metadata": {
        "id": "GTXfyy1NfeVc",
        "colab_type": "code",
        "colab": {}
      },
      "source": [
        "\n",
        "X_train = X_train/255\n",
        "X_test = X_test/255"
      ],
      "execution_count": 0,
      "outputs": []
    },
    {
      "cell_type": "markdown",
      "metadata": {
        "id": "tOZRSpu-fxdB",
        "colab_type": "text"
      },
      "source": [
        "**categorical encoding for target variable**"
      ]
    },
    {
      "cell_type": "code",
      "metadata": {
        "id": "kuE3R59ZfnTr",
        "colab_type": "code",
        "colab": {
          "base_uri": "https://localhost:8080/",
          "height": 34
        },
        "outputId": "9bbfd79b-8465-47d2-a1d0-a13928a907c9"
      },
      "source": [
        "Y_train = np_utils.to_categorical(y_train, 10) \n",
        "Y_test = np_utils.to_categorical(y_test, 10)\n",
        "\n",
        "print(\"After converting the output into a vector : \",Y_train[0])"
      ],
      "execution_count": 80,
      "outputs": [
        {
          "output_type": "stream",
          "text": [
            "After converting the output into a vector :  [0. 0. 0. 0. 0. 1. 0. 0. 0. 0.]\n"
          ],
          "name": "stdout"
        }
      ]
    },
    {
      "cell_type": "markdown",
      "metadata": {
        "id": "auDVN-BggE4k",
        "colab_type": "text"
      },
      "source": [
        "**SoftMax Classifier**"
      ]
    },
    {
      "cell_type": "code",
      "metadata": {
        "id": "fk1QN8vGgL5r",
        "colab_type": "code",
        "colab": {}
      },
      "source": [
        "from keras.models import Sequential \n",
        "from keras.layers import Dense, Activation\n",
        "import warnings\n",
        "warnings.filterwarnings(\"ignore\") "
      ],
      "execution_count": 0,
      "outputs": []
    },
    {
      "cell_type": "code",
      "metadata": {
        "id": "O9Foc75bgRgC",
        "colab_type": "code",
        "colab": {}
      },
      "source": [
        "output_dim = 10\n",
        "input_dim = X_train.shape[1]\n",
        "\n",
        "batch_size = 128 \n",
        "nb_epoch = 20"
      ],
      "execution_count": 0,
      "outputs": []
    },
    {
      "cell_type": "markdown",
      "metadata": {
        "id": "ZmmkuTMegZJU",
        "colab_type": "text"
      },
      "source": [
        "**Model Building**"
      ]
    },
    {
      "cell_type": "markdown",
      "metadata": {
        "id": "mMB5u-cZg7Qf",
        "colab_type": "text"
      },
      "source": [
        "Single Layer"
      ]
    },
    {
      "cell_type": "code",
      "metadata": {
        "id": "TeM8U9uhgWBC",
        "colab_type": "code",
        "colab": {
          "base_uri": "https://localhost:8080/",
          "height": 714
        },
        "outputId": "479bdde6-cf20-4b9e-a0c6-4ff95d8b568d"
      },
      "source": [
        "model = Sequential()\n",
        "model.add(Dense(output_dim, input_dim=input_dim, activation='softmax'))\n",
        "model.compile(optimizer='sgd', loss='categorical_crossentropy', metrics=['accuracy'])\n",
        "history = model.fit(X_train, Y_train, batch_size=batch_size, epochs=nb_epoch, verbose=1, validation_data=(X_test, Y_test)) "
      ],
      "execution_count": 83,
      "outputs": [
        {
          "output_type": "stream",
          "text": [
            "Train on 60000 samples, validate on 10000 samples\n",
            "Epoch 1/20\n",
            "60000/60000 [==============================] - 2s 40us/step - loss: 1.2989 - acc: 0.6809 - val_loss: 0.8126 - val_acc: 0.8323\n",
            "Epoch 2/20\n",
            "60000/60000 [==============================] - 1s 24us/step - loss: 0.7168 - acc: 0.8387 - val_loss: 0.6075 - val_acc: 0.8625\n",
            "Epoch 3/20\n",
            "60000/60000 [==============================] - 1s 24us/step - loss: 0.5876 - acc: 0.8585 - val_loss: 0.5259 - val_acc: 0.8740\n",
            "Epoch 4/20\n",
            "60000/60000 [==============================] - 1s 23us/step - loss: 0.5260 - acc: 0.8682 - val_loss: 0.4803 - val_acc: 0.8811\n",
            "Epoch 5/20\n",
            "60000/60000 [==============================] - 1s 23us/step - loss: 0.4886 - acc: 0.8746 - val_loss: 0.4504 - val_acc: 0.8865\n",
            "Epoch 6/20\n",
            "60000/60000 [==============================] - 1s 23us/step - loss: 0.4628 - acc: 0.8794 - val_loss: 0.4291 - val_acc: 0.8899\n",
            "Epoch 7/20\n",
            "60000/60000 [==============================] - 1s 22us/step - loss: 0.4437 - acc: 0.8833 - val_loss: 0.4127 - val_acc: 0.8922\n",
            "Epoch 8/20\n",
            "60000/60000 [==============================] - 1s 22us/step - loss: 0.4288 - acc: 0.8864 - val_loss: 0.4001 - val_acc: 0.8942\n",
            "Epoch 9/20\n",
            "60000/60000 [==============================] - 1s 23us/step - loss: 0.4167 - acc: 0.8884 - val_loss: 0.3896 - val_acc: 0.8964\n",
            "Epoch 10/20\n",
            "60000/60000 [==============================] - 1s 23us/step - loss: 0.4068 - acc: 0.8907 - val_loss: 0.3811 - val_acc: 0.8977\n",
            "Epoch 11/20\n",
            "60000/60000 [==============================] - 1s 24us/step - loss: 0.3983 - acc: 0.8924 - val_loss: 0.3737 - val_acc: 0.8995\n",
            "Epoch 12/20\n",
            "60000/60000 [==============================] - 1s 23us/step - loss: 0.3910 - acc: 0.8937 - val_loss: 0.3673 - val_acc: 0.9009\n",
            "Epoch 13/20\n",
            "60000/60000 [==============================] - 1s 24us/step - loss: 0.3846 - acc: 0.8949 - val_loss: 0.3618 - val_acc: 0.9023\n",
            "Epoch 14/20\n",
            "60000/60000 [==============================] - 1s 24us/step - loss: 0.3790 - acc: 0.8964 - val_loss: 0.3570 - val_acc: 0.9041\n",
            "Epoch 15/20\n",
            "60000/60000 [==============================] - 1s 24us/step - loss: 0.3739 - acc: 0.8976 - val_loss: 0.3522 - val_acc: 0.9049\n",
            "Epoch 16/20\n",
            "60000/60000 [==============================] - 1s 22us/step - loss: 0.3694 - acc: 0.8986 - val_loss: 0.3485 - val_acc: 0.9057\n",
            "Epoch 17/20\n",
            "60000/60000 [==============================] - 1s 23us/step - loss: 0.3653 - acc: 0.8997 - val_loss: 0.3451 - val_acc: 0.9065\n",
            "Epoch 18/20\n",
            "60000/60000 [==============================] - 1s 23us/step - loss: 0.3615 - acc: 0.9004 - val_loss: 0.3415 - val_acc: 0.9074\n",
            "Epoch 19/20\n",
            "60000/60000 [==============================] - 1s 23us/step - loss: 0.3581 - acc: 0.9014 - val_loss: 0.3389 - val_acc: 0.9081\n",
            "Epoch 20/20\n",
            "60000/60000 [==============================] - 1s 22us/step - loss: 0.3549 - acc: 0.9018 - val_loss: 0.3360 - val_acc: 0.9094\n"
          ],
          "name": "stdout"
        }
      ]
    },
    {
      "cell_type": "markdown",
      "metadata": {
        "id": "_TRqjBR1hE5R",
        "colab_type": "text"
      },
      "source": [
        "MLP"
      ]
    },
    {
      "cell_type": "code",
      "metadata": {
        "id": "H3DIxxY4giXE",
        "colab_type": "code",
        "colab": {
          "base_uri": "https://localhost:8080/",
          "height": 255
        },
        "outputId": "8b0d7d93-8cfb-43ed-a1d5-18f1e97cd33e"
      },
      "source": [
        "# Multilayer perceptron\n",
        "\n",
        "model_sigmoid = Sequential()\n",
        "model_sigmoid.add(Dense(512, activation='sigmoid', input_shape=(input_dim,)))\n",
        "model_sigmoid.add(Dense(128, activation='sigmoid'))\n",
        "model_sigmoid.add(Dense(output_dim, activation='softmax'))\n",
        "\n",
        "model_sigmoid.summary()"
      ],
      "execution_count": 84,
      "outputs": [
        {
          "output_type": "stream",
          "text": [
            "Model: \"sequential_17\"\n",
            "_________________________________________________________________\n",
            "Layer (type)                 Output Shape              Param #   \n",
            "=================================================================\n",
            "dense_37 (Dense)             (None, 512)               401920    \n",
            "_________________________________________________________________\n",
            "dense_38 (Dense)             (None, 128)               65664     \n",
            "_________________________________________________________________\n",
            "dense_39 (Dense)             (None, 10)                1290      \n",
            "=================================================================\n",
            "Total params: 468,874\n",
            "Trainable params: 468,874\n",
            "Non-trainable params: 0\n",
            "_________________________________________________________________\n"
          ],
          "name": "stdout"
        }
      ]
    },
    {
      "cell_type": "code",
      "metadata": {
        "id": "CILr1o51hTKM",
        "colab_type": "code",
        "colab": {
          "base_uri": "https://localhost:8080/",
          "height": 714
        },
        "outputId": "dc60fcf1-3244-4d5b-ad30-36f0610e2b9b"
      },
      "source": [
        "model_sigmoid.compile(optimizer='sgd', loss='categorical_crossentropy', metrics=['accuracy'])\n",
        "\n",
        "history = model_sigmoid.fit(X_train, Y_train, batch_size=batch_size, epochs=nb_epoch, verbose=1, validation_data=(X_test, Y_test))"
      ],
      "execution_count": 85,
      "outputs": [
        {
          "output_type": "stream",
          "text": [
            "Train on 60000 samples, validate on 10000 samples\n",
            "Epoch 1/20\n",
            "60000/60000 [==============================] - 6s 98us/step - loss: 2.2689 - acc: 0.2158 - val_loss: 2.2218 - val_acc: 0.3897\n",
            "Epoch 2/20\n",
            "60000/60000 [==============================] - 5s 82us/step - loss: 2.1767 - acc: 0.4667 - val_loss: 2.1214 - val_acc: 0.5874\n",
            "Epoch 3/20\n",
            "60000/60000 [==============================] - 5s 82us/step - loss: 2.0600 - acc: 0.5960 - val_loss: 1.9799 - val_acc: 0.6404\n",
            "Epoch 4/20\n",
            "60000/60000 [==============================] - 5s 82us/step - loss: 1.8958 - acc: 0.6491 - val_loss: 1.7860 - val_acc: 0.7110\n",
            "Epoch 5/20\n",
            "60000/60000 [==============================] - 5s 83us/step - loss: 1.6845 - acc: 0.6894 - val_loss: 1.5556 - val_acc: 0.7261\n",
            "Epoch 6/20\n",
            "60000/60000 [==============================] - 5s 83us/step - loss: 1.4547 - acc: 0.7209 - val_loss: 1.3269 - val_acc: 0.7417\n",
            "Epoch 7/20\n",
            "60000/60000 [==============================] - 5s 84us/step - loss: 1.2445 - acc: 0.7460 - val_loss: 1.1351 - val_acc: 0.7664\n",
            "Epoch 8/20\n",
            "60000/60000 [==============================] - 5s 82us/step - loss: 1.0753 - acc: 0.7703 - val_loss: 0.9874 - val_acc: 0.7934\n",
            "Epoch 9/20\n",
            "60000/60000 [==============================] - 5s 82us/step - loss: 0.9466 - acc: 0.7901 - val_loss: 0.8762 - val_acc: 0.8020\n",
            "Epoch 10/20\n",
            "60000/60000 [==============================] - 5s 83us/step - loss: 0.8487 - acc: 0.8052 - val_loss: 0.7903 - val_acc: 0.8170\n",
            "Epoch 11/20\n",
            "60000/60000 [==============================] - 5s 83us/step - loss: 0.7728 - acc: 0.8174 - val_loss: 0.7235 - val_acc: 0.8266\n",
            "Epoch 12/20\n",
            "60000/60000 [==============================] - 5s 83us/step - loss: 0.7129 - acc: 0.8276 - val_loss: 0.6698 - val_acc: 0.8370\n",
            "Epoch 13/20\n",
            "60000/60000 [==============================] - 5s 83us/step - loss: 0.6642 - acc: 0.8373 - val_loss: 0.6266 - val_acc: 0.8454\n",
            "Epoch 14/20\n",
            "60000/60000 [==============================] - 5s 81us/step - loss: 0.6243 - acc: 0.8445 - val_loss: 0.5894 - val_acc: 0.8505\n",
            "Epoch 15/20\n",
            "60000/60000 [==============================] - 5s 82us/step - loss: 0.5908 - acc: 0.8508 - val_loss: 0.5594 - val_acc: 0.8560\n",
            "Epoch 16/20\n",
            "60000/60000 [==============================] - 5s 82us/step - loss: 0.5625 - acc: 0.8571 - val_loss: 0.5332 - val_acc: 0.8626\n",
            "Epoch 17/20\n",
            "60000/60000 [==============================] - 5s 82us/step - loss: 0.5383 - acc: 0.8610 - val_loss: 0.5103 - val_acc: 0.8688\n",
            "Epoch 18/20\n",
            "60000/60000 [==============================] - 5s 83us/step - loss: 0.5172 - acc: 0.8660 - val_loss: 0.4908 - val_acc: 0.8726\n",
            "Epoch 19/20\n",
            "60000/60000 [==============================] - 5s 82us/step - loss: 0.4988 - acc: 0.8691 - val_loss: 0.4738 - val_acc: 0.8758\n",
            "Epoch 20/20\n",
            "60000/60000 [==============================] - 5s 82us/step - loss: 0.4826 - acc: 0.8730 - val_loss: 0.4586 - val_acc: 0.8793\n"
          ],
          "name": "stdout"
        }
      ]
    },
    {
      "cell_type": "code",
      "metadata": {
        "id": "P8Eb9mqthfFO",
        "colab_type": "code",
        "colab": {
          "base_uri": "https://localhost:8080/",
          "height": 51
        },
        "outputId": "9a471c7f-bc5c-4974-8dc5-4111a5402f5a"
      },
      "source": [
        "score = model_sigmoid.evaluate(X_test, Y_test, verbose=0) \n",
        "print('Test score:', score[0]) \n",
        "print('Test accuracy:', score[1])"
      ],
      "execution_count": 86,
      "outputs": [
        {
          "output_type": "stream",
          "text": [
            "Test score: 0.4586237694501877\n",
            "Test accuracy: 0.8793\n"
          ],
          "name": "stdout"
        }
      ]
    },
    {
      "cell_type": "code",
      "metadata": {
        "id": "kD1GsKc5iGxW",
        "colab_type": "code",
        "colab": {
          "base_uri": "https://localhost:8080/",
          "height": 265
        },
        "outputId": "c7d51175-d7b2-4c09-cc38-4637c5c24870"
      },
      "source": [
        "fig,ax = plt.subplots(1,1)\n",
        "#ax.set_xlabel('epoch') ; ax.set_ylabel('Categorical Crossentropy Loss')\n",
        "x = list(range(1,nb_epoch+1))\n",
        "vy = history.history['val_loss']\n",
        "ty = history.history['loss']\n",
        "plt_dynamic(x, vy, ty, ax)\n"
      ],
      "execution_count": 87,
      "outputs": [
        {
          "output_type": "display_data",
          "data": {
            "image/png": "[encoded data removed]",
            "text/plain": [
              "<Figure size 432x288 with 1 Axes>"
            ]
          },
          "metadata": {
            "tags": []
          }
        }
      ]
    },
    {
      "cell_type": "code",
      "metadata": {
        "id": "n8iyac1OiZda",
        "colab_type": "code",
        "colab": {
          "base_uri": "https://localhost:8080/",
          "height": 391
        },
        "outputId": "2adf680e-fe7d-414b-8ec1-8030bedd2108"
      },
      "source": [
        "# https://stackoverflow.com/questions/34716454/where-do-i-call-the-batchnormalization-function-in-keras\n",
        "\n",
        "from keras.layers import Dropout\n",
        "from keras.layers.normalization import BatchNormalization\n",
        "\n",
        "model_drop = Sequential()\n",
        "\n",
        "model_drop.add(Dense(512, activation='sigmoid', input_shape=(input_dim,), kernel_initializer=RandomNormal(mean=0.0, stddev=0.039, seed=None)))\n",
        "model_drop.add(BatchNormalization())\n",
        "model_drop.add(Dropout(0.5))\n",
        "\n",
        "model_drop.add(Dense(128, activation='sigmoid', kernel_initializer=RandomNormal(mean=0.0, stddev=0.55, seed=None)) )\n",
        "model_drop.add(BatchNormalization())\n",
        "model_drop.add(Dropout(0.5))\n",
        "\n",
        "model_drop.add(Dense(output_dim, activation='softmax'))\n",
        "\n",
        "\n",
        "model_drop.summary()"
      ],
      "execution_count": 88,
      "outputs": [
        {
          "output_type": "stream",
          "text": [
            "Model: \"sequential_18\"\n",
            "_________________________________________________________________\n",
            "Layer (type)                 Output Shape              Param #   \n",
            "=================================================================\n",
            "dense_40 (Dense)             (None, 512)               401920    \n",
            "_________________________________________________________________\n",
            "batch_normalization_3 (Batch (None, 512)               2048      \n",
            "_________________________________________________________________\n",
            "dropout_3 (Dropout)          (None, 512)               0         \n",
            "_________________________________________________________________\n",
            "dense_41 (Dense)             (None, 128)               65664     \n",
            "_________________________________________________________________\n",
            "batch_normalization_4 (Batch (None, 128)               512       \n",
            "_________________________________________________________________\n",
            "dropout_4 (Dropout)          (None, 128)               0         \n",
            "_________________________________________________________________\n",
            "dense_42 (Dense)             (None, 10)                1290      \n",
            "=================================================================\n",
            "Total params: 471,434\n",
            "Trainable params: 470,154\n",
            "Non-trainable params: 1,280\n",
            "_________________________________________________________________\n"
          ],
          "name": "stdout"
        }
      ]
    },
    {
      "cell_type": "code",
      "metadata": {
        "id": "wEJ4Le-PjHpg",
        "colab_type": "code",
        "colab": {
          "base_uri": "https://localhost:8080/",
          "height": 714
        },
        "outputId": "5b66043c-a609-45bd-dbf6-94d61b346997"
      },
      "source": [
        "model_drop.compile(optimizer='adam', loss='categorical_crossentropy', metrics=['accuracy'])\n",
        "\n",
        "history = model_drop.fit(X_train, Y_train, batch_size=batch_size, epochs=nb_epoch, verbose=1, validation_data=(X_test, Y_test))"
      ],
      "execution_count": 89,
      "outputs": [
        {
          "output_type": "stream",
          "text": [
            "Train on 60000 samples, validate on 10000 samples\n",
            "Epoch 1/20\n",
            "60000/60000 [==============================] - 10s 159us/step - loss: 0.6656 - acc: 0.7930 - val_loss: 0.2922 - val_acc: 0.9159\n",
            "Epoch 2/20\n",
            "60000/60000 [==============================] - 8s 134us/step - loss: 0.4298 - acc: 0.8693 - val_loss: 0.2609 - val_acc: 0.9240\n",
            "Epoch 3/20\n",
            "60000/60000 [==============================] - 8s 133us/step - loss: 0.3872 - acc: 0.8837 - val_loss: 0.2384 - val_acc: 0.9285\n",
            "Epoch 4/20\n",
            "60000/60000 [==============================] - 8s 134us/step - loss: 0.3606 - acc: 0.8922 - val_loss: 0.2210 - val_acc: 0.9351\n",
            "Epoch 5/20\n",
            "60000/60000 [==============================] - 8s 135us/step - loss: 0.3389 - acc: 0.8975 - val_loss: 0.2188 - val_acc: 0.9400\n",
            "Epoch 6/20\n",
            "60000/60000 [==============================] - 8s 134us/step - loss: 0.3180 - acc: 0.9035 - val_loss: 0.2060 - val_acc: 0.9408\n",
            "Epoch 7/20\n",
            "60000/60000 [==============================] - 8s 133us/step - loss: 0.3082 - acc: 0.9066 - val_loss: 0.2034 - val_acc: 0.9424\n",
            "Epoch 8/20\n",
            "60000/60000 [==============================] - 8s 133us/step - loss: 0.2975 - acc: 0.9091 - val_loss: 0.1889 - val_acc: 0.9445\n",
            "Epoch 9/20\n",
            "60000/60000 [==============================] - 8s 135us/step - loss: 0.2835 - acc: 0.9151 - val_loss: 0.1828 - val_acc: 0.9479\n",
            "Epoch 10/20\n",
            "60000/60000 [==============================] - 8s 133us/step - loss: 0.2751 - acc: 0.9163 - val_loss: 0.1732 - val_acc: 0.9489\n",
            "Epoch 11/20\n",
            "60000/60000 [==============================] - 8s 133us/step - loss: 0.2604 - acc: 0.9208 - val_loss: 0.1650 - val_acc: 0.9527\n",
            "Epoch 12/20\n",
            "60000/60000 [==============================] - 8s 132us/step - loss: 0.2478 - acc: 0.9249 - val_loss: 0.1565 - val_acc: 0.9537\n",
            "Epoch 13/20\n",
            "60000/60000 [==============================] - 8s 134us/step - loss: 0.2375 - acc: 0.9283 - val_loss: 0.1526 - val_acc: 0.9541\n",
            "Epoch 14/20\n",
            "60000/60000 [==============================] - 8s 135us/step - loss: 0.2260 - acc: 0.9314 - val_loss: 0.1421 - val_acc: 0.9568\n",
            "Epoch 15/20\n",
            "60000/60000 [==============================] - 8s 131us/step - loss: 0.2171 - acc: 0.9350 - val_loss: 0.1352 - val_acc: 0.9591\n",
            "Epoch 16/20\n",
            "60000/60000 [==============================] - 8s 133us/step - loss: 0.2137 - acc: 0.9359 - val_loss: 0.1312 - val_acc: 0.9597\n",
            "Epoch 17/20\n",
            "60000/60000 [==============================] - 8s 134us/step - loss: 0.2015 - acc: 0.9395 - val_loss: 0.1246 - val_acc: 0.9626\n",
            "Epoch 18/20\n",
            "60000/60000 [==============================] - 8s 135us/step - loss: 0.1921 - acc: 0.9416 - val_loss: 0.1185 - val_acc: 0.9658\n",
            "Epoch 19/20\n",
            "60000/60000 [==============================] - 8s 131us/step - loss: 0.1886 - acc: 0.9435 - val_loss: 0.1181 - val_acc: 0.9646\n",
            "Epoch 20/20\n",
            "60000/60000 [==============================] - 8s 132us/step - loss: 0.1808 - acc: 0.9452 - val_loss: 0.1121 - val_acc: 0.9670\n"
          ],
          "name": "stdout"
        }
      ]
    },
    {
      "cell_type": "code",
      "metadata": {
        "id": "4yI8XC_4jcd0",
        "colab_type": "code",
        "colab": {
          "base_uri": "https://localhost:8080/",
          "height": 313
        },
        "outputId": "b8fa5de2-724f-44cd-f752-e457305d12a7"
      },
      "source": [
        "score = model_drop.evaluate(X_test, Y_test, verbose=0) \n",
        "print('Test score:', score[0]) \n",
        "print('Test accuracy:', score[1])\n",
        "\n",
        "fig,ax = plt.subplots(1,1)\n",
        "ax.set_xlabel('epoch') ; ax.set_ylabel('Categorical Crossentropy Loss')\n",
        "\n",
        "# list of epoch numbers\n",
        "x = list(range(1,nb_epoch+1))\n",
        "\n",
        "# print(history.history.keys())\n",
        "# dict_keys(['val_loss', 'val_acc', 'loss', 'acc'])\n",
        "# history = model_drop.fit(X_train, Y_train, batch_size=batch_size, epochs=nb_epoch, verbose=1, validation_data=(X_test, Y_test))\n",
        "\n",
        "# we will get val_loss and val_acc only when you pass the paramter validation_data\n",
        "# val_loss : validation loss\n",
        "# val_acc : validation accuracy\n",
        "\n",
        "# loss : training loss\n",
        "# acc : train accuracy\n",
        "# for each key in histrory.histrory we will have a list of length equal to number of epochs\n",
        "\n",
        "vy = history.history['val_loss']\n",
        "ty = history.history['loss']\n",
        "plt_dynamic(x, vy, ty, ax)"
      ],
      "execution_count": 90,
      "outputs": [
        {
          "output_type": "stream",
          "text": [
            "Test score: 0.11205659993793815\n",
            "Test accuracy: 0.967\n"
          ],
          "name": "stdout"
        },
        {
          "output_type": "display_data",
          "data": {
            "image/png": "[encoded data removed]",
            "text/plain": [
              "<Figure size 432x288 with 1 Axes>"
            ]
          },
          "metadata": {
            "tags": []
          }
        }
      ]
    },
    {
      "cell_type": "code",
      "metadata": {
        "id": "8OxpdkgFlfuW",
        "colab_type": "code",
        "colab": {}
      },
      "source": [
        ""
      ],
      "execution_count": 0,
      "outputs": []
    },
    {
      "cell_type": "code",
      "metadata": {
        "id": "rFqnUUTFjerp",
        "colab_type": "code",
        "colab": {
          "base_uri": "https://localhost:8080/",
          "height": 285
        },
        "outputId": "849ffac0-cbd8-4cae-b356-4e4f4386f425"
      },
      "source": [
        "w_after = model_drop.get_weights()\n",
        "\n",
        "h1_w = w_after[0].flatten().reshape(-1,1)\n",
        "h2_w = w_after[2].flatten().reshape(-1,1)\n",
        "out_w = w_after[4].flatten().reshape(-1,1)\n",
        "\n",
        "\n",
        "fig = plt.figure()\n",
        "plt.title(\"Weight matrices after model trained\")\n",
        "plt.subplot(1, 3, 1)\n",
        "plt.title(\"Trained model Weights\")\n",
        "ax = sns.violinplot(y=h1_w,color='b')\n",
        "plt.xlabel('Hidden Layer 1')\n",
        "\n",
        "plt.subplot(1, 3, 2)\n",
        "plt.title(\"Trained model Weights\")\n",
        "ax = sns.violinplot(y=h2_w, color='r')\n",
        "plt.xlabel('Hidden Layer 2 ')\n",
        "\n",
        "plt.subplot(1, 3, 3)\n",
        "plt.title(\"Trained model Weights\")\n",
        "ax = sns.violinplot(y=out_w,color='y')\n",
        "plt.xlabel('Output Layer ')\n",
        "plt.show()"
      ],
      "execution_count": 91,
      "outputs": [
        {
          "output_type": "display_data",
          "data": {
            "image/png": "[encoded data removed]",
            "text/plain": [
              "<Figure size 432x288 with 3 Axes>"
            ]
          },
          "metadata": {
            "tags": []
          }
        }
      ]
    },
    {
      "cell_type": "markdown",
      "metadata": {
        "id": "klQ_5CxOrqpK",
        "colab_type": "text"
      },
      "source": [
        "**Hyper parameter Tuning**"
      ]
    },
    {
      "cell_type": "code",
      "metadata": {
        "id": "qWxauoYvk6Km",
        "colab_type": "code",
        "colab": {}
      },
      "source": [
        "from keras.optimizers import Adam,RMSprop,SGD\n",
        "def best_hyperparameters(activ):\n",
        "\n",
        "    model = Sequential()\n",
        "    model.add(Dense(512, activation=activ, input_shape=(input_dim,), kernel_initializer=RandomNormal(mean=0.0, stddev=0.062, seed=None)))\n",
        "    model.add(Dense(128, activation=activ, kernel_initializer=RandomNormal(mean=0.0, stddev=0.125, seed=None)) )\n",
        "    model.add(Dense(output_dim, activation='softmax'))\n",
        "\n",
        "\n",
        "    model.compile(loss='categorical_crossentropy', metrics=['accuracy'], optimizer='adam')\n",
        "    \n",
        "    return model"
      ],
      "execution_count": 0,
      "outputs": []
    },
    {
      "cell_type": "markdown",
      "metadata": {
        "id": "AHxoZTdsrqMN",
        "colab_type": "text"
      },
      "source": [
        ""
      ]
    },
    {
      "cell_type": "code",
      "metadata": {
        "id": "iCnVhYm_ltY3",
        "colab_type": "code",
        "colab": {}
      },
      "source": [
        "# https://machinelearningmastery.com/grid-search-hyperparameters-deep-learning-models-python-keras/\n",
        "\n",
        "activ = ['sigmoid','relu']\n",
        "\n",
        "from keras.wrappers.scikit_learn import KerasClassifier\n",
        "from sklearn.model_selection import GridSearchCV\n",
        "\n",
        "model = KerasClassifier(build_fn=best_hyperparameters, epochs=nb_epoch, batch_size=batch_size, verbose=0)\n",
        "param_grid = dict(activ=activ)\n",
        "\n",
        "\n",
        "grid = GridSearchCV(estimator=model, param_grid=param_grid)\n",
        "grid_result = grid.fit(X_train, Y_train)"
      ],
      "execution_count": 0,
      "outputs": []
    },
    {
      "cell_type": "code",
      "metadata": {
        "id": "HcaWIvDNl-_P",
        "colab_type": "code",
        "colab": {
          "base_uri": "https://localhost:8080/",
          "height": 68
        },
        "outputId": "11be7080-2d1e-4115-e617-bd9b80993604"
      },
      "source": [
        "print(\"Best: %f using %s\" % (grid_result.best_score_, grid_result.best_params_))\n",
        "means = grid_result.cv_results_['mean_test_score']\n",
        "stds = grid_result.cv_results_['std_test_score']\n",
        "params = grid_result.cv_results_['params']\n",
        "for mean, stdev, param in zip(means, stds, params):\n",
        "    print(\"%f (%f) with: %r\" % (mean, stdev, param))"
      ],
      "execution_count": 94,
      "outputs": [
        {
          "output_type": "stream",
          "text": [
            "Best: 0.976033 using {'activ': 'relu'}\n",
            "0.974850 (0.000187) with: {'activ': 'sigmoid'}\n",
            "0.976033 (0.003052) with: {'activ': 'relu'}\n"
          ],
          "name": "stdout"
        }
      ]
    },
    {
      "cell_type": "code",
      "metadata": {
        "id": "Wevn0PhJmFoV",
        "colab_type": "code",
        "colab": {}
      },
      "source": [
        ""
      ],
      "execution_count": 0,
      "outputs": []
    }
  ]
}